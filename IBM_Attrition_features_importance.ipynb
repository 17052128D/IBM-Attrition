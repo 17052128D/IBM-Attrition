{
 "cells": [
  {
   "cell_type": "code",
   "execution_count": null,
   "id": "7f3a9d39",
   "metadata": {
    "id": "7f3a9d39"
   },
   "outputs": [],
   "source": [
    "import pandas as pd\n",
    "import numpy as np\n",
    "import seaborn as sns\n",
    "import matplotlib.pyplot as plt"
   ]
  },
  {
   "cell_type": "code",
   "execution_count": null,
   "id": "2df8629d",
   "metadata": {
    "colab": {
     "base_uri": "https://localhost:8080/",
     "height": 35
    },
    "id": "2df8629d",
    "outputId": "16645aae-85ce-4e4c-ad29-6cf222fc81de"
   },
   "outputs": [],
   "source": [
    "import os\n",
    "cwd = os.getcwd()\n",
    "cwd"
   ]
  },
  {
   "cell_type": "code",
   "execution_count": null,
   "id": "N-TOVVUJRS7I",
   "metadata": {
    "colab": {
     "base_uri": "https://localhost:8080/"
    },
    "id": "N-TOVVUJRS7I",
    "outputId": "2b5ad610-6583-429c-bb5e-ce0e5481e147"
   },
   "outputs": [],
   "source": [
    "from google.colab import drive\n",
    "drive.mount('/content/drive')"
   ]
  },
  {
   "cell_type": "code",
   "execution_count": null,
   "id": "f8b0e472",
   "metadata": {
    "colab": {
     "base_uri": "https://localhost:8080/",
     "height": 627
    },
    "id": "f8b0e472",
    "outputId": "4d9af701-fda1-4f40-e6a4-1beae2fd7537"
   },
   "outputs": [],
   "source": [
    "df = pd.read_csv('./drive/MyDrive/DS/WA_Fn-UseC_-HR-Employee-Attrition.csv')\n",
    "df"
   ]
  },
  {
   "cell_type": "markdown",
   "id": "fa1319d0",
   "metadata": {
    "id": "fa1319d0"
   },
   "source": [
    "### Encoding"
   ]
  },
  {
   "cell_type": "code",
   "execution_count": null,
   "id": "da5c75a0",
   "metadata": {
    "id": "da5c75a0"
   },
   "outputs": [],
   "source": [
    "df.drop(['EmployeeCount', 'Over18', 'StandardHours', 'EmployeeNumber'], axis='columns', inplace=True)"
   ]
  },
  {
   "cell_type": "code",
   "execution_count": null,
   "id": "d3b55879",
   "metadata": {
    "id": "d3b55879"
   },
   "outputs": [],
   "source": [
    "df['Age_re'] = df['Age']\n",
    "df = df.drop('Age',axis=1)"
   ]
  },
  {
   "cell_type": "code",
   "execution_count": null,
   "id": "8RKWiGLMc_CT",
   "metadata": {
    "colab": {
     "base_uri": "https://localhost:8080/",
     "height": 487
    },
    "id": "8RKWiGLMc_CT",
    "outputId": "f6533928-3883-4970-edd0-780bab08b4b9"
   },
   "outputs": [],
   "source": [
    "from sklearn import preprocessing \n",
    "le = preprocessing.LabelEncoder()\n",
    "df['BusinessTravel'] = le.fit_transform(df.BusinessTravel.values)\n",
    "df['Department'] = le.fit_transform(df.Department.values)\n",
    "df['Gender'] = le.fit_transform(df.Gender.values)\n",
    "df['JobRole'] = le.fit_transform(df.JobRole.values)\n",
    "df['MaritalStatus'] = le.fit_transform(df.MaritalStatus.values)\n",
    "df['OverTime'] = le.fit_transform(df.OverTime.values)\n",
    "df['EducationField'] = le.fit_transform(df.EducationField.values)\n",
    "df\n"
   ]
  },
  {
   "cell_type": "code",
   "execution_count": null,
   "id": "3a62e05f",
   "metadata": {
    "colab": {
     "base_uri": "https://localhost:8080/"
    },
    "id": "3a62e05f",
    "outputId": "fc00c153-8fe5-4446-f699-025194eca915"
   },
   "outputs": [],
   "source": [
    "from sklearn.preprocessing import LabelEncoder\n",
    "\n",
    "for column in df.columns:\n",
    "    if df[column].dtype == np.number:\n",
    "        continue \n",
    "    df[column] = LabelEncoder().fit_transform(df[column])"
   ]
  },
  {
   "cell_type": "markdown",
   "id": "46be9504",
   "metadata": {
    "id": "46be9504"
   },
   "source": [
    "### Feature Scaling"
   ]
  },
  {
   "cell_type": "code",
   "execution_count": null,
   "id": "dad02e50",
   "metadata": {
    "colab": {
     "base_uri": "https://localhost:8080/",
     "height": 505
    },
    "id": "dad02e50",
    "outputId": "0bfdb022-1974-4c3e-fbe3-dbb393190953"
   },
   "outputs": [],
   "source": [
    "from sklearn.preprocessing import MinMaxScaler\n",
    "scaler = MinMaxScaler(feature_range=(0, 1))\n",
    "df_scaled = scaler.fit_transform(df.to_numpy())\n",
    "df_scaled = pd.DataFrame(df_scaled)\n",
    " \n",
    "print(\"Scaled Dataset Using MinMaxScaler\")\n",
    "df_scaled"
   ]
  },
  {
   "cell_type": "markdown",
   "id": "a9eac27d",
   "metadata": {
    "id": "a9eac27d"
   },
   "source": [
    "### Specify Predictor/Target Variables"
   ]
  },
  {
   "cell_type": "code",
   "execution_count": null,
   "id": "8ec82925",
   "metadata": {
    "id": "8ec82925"
   },
   "outputs": [],
   "source": [
    "X = df.drop('Attrition', axis=1)\n",
    "y = df['Attrition']"
   ]
  },
  {
   "cell_type": "code",
   "execution_count": null,
   "id": "-C4z63noVkAR",
   "metadata": {
    "id": "-C4z63noVkAR"
   },
   "outputs": [],
   "source": [
    "from sklearn.model_selection import train_test_split, GridSearchCV\n",
    "\n",
    "X_train, X_test, y_train, y_test = train_test_split(X, y, test_size=0.3, random_state=42)"
   ]
  },
  {
   "cell_type": "code",
   "execution_count": null,
   "id": "STsw0ZB_W3P3",
   "metadata": {
    "id": "STsw0ZB_W3P3"
   },
   "outputs": [],
   "source": [
    "from imblearn.combine import SMOTEENN\n",
    "sm = SMOTEENN()\n",
    "X_train, y_train = sm.fit_resample(X_train,y_train)"
   ]
  },
  {
   "cell_type": "code",
   "execution_count": null,
   "id": "TBcj9_HRWESK",
   "metadata": {
    "colab": {
     "base_uri": "https://localhost:8080/"
    },
    "id": "TBcj9_HRWESK",
    "outputId": "da1b6600-8ff7-4884-9584-4f23e33b85ce"
   },
   "outputs": [],
   "source": [
    "from sklearn.ensemble import RandomForestClassifier\n",
    "\n",
    "rf_clf = RandomForestClassifier(n_estimators=100, bootstrap=False)\n",
    "\n",
    "                                    \n",
    "rf_clf.fit(X_train, y_train)\n",
    "print('Training accuracy:',np.mean(rf_clf.predict(X_train)==y_train)*100)\n",
    "print('Test accuracy:',np.mean(rf_clf.predict(X_test)==y_test)*100)"
   ]
  },
  {
   "cell_type": "code",
   "execution_count": null,
   "id": "mECrf_6KY-gs",
   "metadata": {
    "colab": {
     "base_uri": "https://localhost:8080/",
     "height": 722
    },
    "id": "mECrf_6KY-gs",
    "outputId": "20a4f407-d0e2-44d7-da9e-fa6ab424d1cd"
   },
   "outputs": [],
   "source": [
    "importance_vals = rf_clf.feature_importances_\n",
    "plt.rcParams['figure.figsize'] = [10,10]\n",
    "indices = np.argsort(importance_vals)[::-1]\n",
    "\n",
    "plt.figure()\n",
    "plt.title('Random forest impurity-based feature importance')\n",
    "plt.bar(range(X_train.shape[1]), importance_vals[indices])\n",
    "\n",
    "plt.xticks(range(X_train.shape[1]), df.columns[1:][indices], rotation = 90)\n",
    "plt.xlim([-1, X_train.shape[1]])\n",
    "plt.ylim([0,0.2])\n",
    "\n",
    "#plt.tight_layout()\n",
    "plt.show()\n"
   ]
  },
  {
   "cell_type": "code",
   "execution_count": null,
   "id": "PikC-lDQQyv2",
   "metadata": {
    "id": "PikC-lDQQyv2"
   },
   "outputs": [],
   "source": [
    "## How much a performance will drop if we shuffle the column "
   ]
  }
 ],
 "metadata": {
  "colab": {
   "name": "IBM_Attrition_features_importance.ipynb",
   "provenance": []
  },
  "kernelspec": {
   "display_name": "Python 3 (ipykernel)",
   "language": "python",
   "name": "python3"
  },
  "language_info": {
   "codemirror_mode": {
    "name": "ipython",
    "version": 3
   },
   "file_extension": ".py",
   "mimetype": "text/x-python",
   "name": "python",
   "nbconvert_exporter": "python",
   "pygments_lexer": "ipython3",
   "version": "3.9.7"
  }
 },
 "nbformat": 4,
 "nbformat_minor": 5
}
