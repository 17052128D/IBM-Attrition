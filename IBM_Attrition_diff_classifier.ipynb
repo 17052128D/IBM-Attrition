{
 "cells": [
  {
   "cell_type": "code",
   "execution_count": null,
   "id": "7f3a9d39",
   "metadata": {
    "id": "7f3a9d39"
   },
   "outputs": [],
   "source": [
    "import pandas as pd\n",
    "import numpy as np\n",
    "import seaborn as sns\n",
    "import matplotlib.pyplot as plt"
   ]
  },
  {
   "cell_type": "code",
   "execution_count": null,
   "id": "0PuOZc6T2yDp",
   "metadata": {
    "colab": {
     "base_uri": "https://localhost:8080/"
    },
    "id": "0PuOZc6T2yDp",
    "outputId": "35eda0fd-a3b9-4213-fbfe-4a206bad7c2d"
   },
   "outputs": [],
   "source": [
    "from google.colab import drive\n",
    "drive.mount('/content/drive')"
   ]
  },
  {
   "cell_type": "code",
   "execution_count": null,
   "id": "2df8629d",
   "metadata": {
    "colab": {
     "base_uri": "https://localhost:8080/",
     "height": 38
    },
    "id": "2df8629d",
    "outputId": "b3239df9-6dd3-447c-fb3d-836ee8841164"
   },
   "outputs": [],
   "source": [
    "import os\n",
    "cwd = os.getcwd()\n",
    "cwd"
   ]
  },
  {
   "cell_type": "code",
   "execution_count": null,
   "id": "oqBob-kJ3Oup",
   "metadata": {
    "id": "oqBob-kJ3Oup"
   },
   "outputs": [],
   "source": [
    "os.chdir('./drive/MyDrive/DS')"
   ]
  },
  {
   "cell_type": "code",
   "execution_count": null,
   "id": "f8b0e472",
   "metadata": {
    "colab": {
     "base_uri": "https://localhost:8080/",
     "height": 619
    },
    "id": "f8b0e472",
    "outputId": "32996b19-c9ba-4387-9d24-26bd949a4224"
   },
   "outputs": [],
   "source": [
    "df = pd.read_csv('./WA_Fn-UseC_-HR-Employee-Attrition.csv')\n",
    "df"
   ]
  },
  {
   "cell_type": "code",
   "execution_count": null,
   "id": "27f3d17b",
   "metadata": {
    "id": "27f3d17b"
   },
   "outputs": [],
   "source": [
    "df.shape"
   ]
  },
  {
   "cell_type": "code",
   "execution_count": null,
   "id": "d86400b7",
   "metadata": {
    "id": "d86400b7"
   },
   "outputs": [],
   "source": [
    "df.info()"
   ]
  },
  {
   "cell_type": "code",
   "execution_count": null,
   "id": "fce7fb9b",
   "metadata": {
    "id": "fce7fb9b"
   },
   "outputs": [],
   "source": [
    "df.isnull().sum()"
   ]
  },
  {
   "cell_type": "code",
   "execution_count": null,
   "id": "4668c2b9",
   "metadata": {
    "id": "4668c2b9"
   },
   "outputs": [],
   "source": [
    "df['Attrition'].value_counts().plot(kind='barh')\n",
    "plt.title('Attrition rate')\n",
    "plt.xlabel('Count')\n",
    "plt.show()"
   ]
  },
  {
   "cell_type": "code",
   "execution_count": null,
   "id": "7f35b1e0",
   "metadata": {
    "id": "7f35b1e0"
   },
   "outputs": [],
   "source": [
    "df['Attrition'].value_counts()/len(df)"
   ]
  },
  {
   "cell_type": "code",
   "execution_count": null,
   "id": "0c146d73",
   "metadata": {
    "id": "0c146d73"
   },
   "outputs": [],
   "source": [
    "(df['Attrition'].value_counts()/len(df)).plot(kind='pie', autopct='%1.0f%%', title='Attrition percentage')"
   ]
  },
  {
   "cell_type": "code",
   "execution_count": null,
   "id": "39513f8c",
   "metadata": {
    "id": "39513f8c"
   },
   "outputs": [],
   "source": [
    "df.columns"
   ]
  },
  {
   "cell_type": "code",
   "execution_count": null,
   "id": "07c6eca0",
   "metadata": {
    "id": "07c6eca0"
   },
   "outputs": [],
   "source": [
    "for column in df.columns:\n",
    "    print(f'{column}: Number of unique values {df[column].nunique()}')\n",
    "    print('===========================================================')"
   ]
  },
  {
   "cell_type": "code",
   "execution_count": null,
   "id": "bc6247e5",
   "metadata": {
    "id": "bc6247e5"
   },
   "outputs": [],
   "source": [
    "df.drop(['EmployeeCount', 'Over18', 'StandardHours', 'EmployeeNumber'], axis='columns', inplace=True)"
   ]
  },
  {
   "cell_type": "markdown",
   "id": "ed16ae26",
   "metadata": {
    "id": "ed16ae26"
   },
   "source": [
    "### Univariate Analysis\n"
   ]
  },
  {
   "cell_type": "code",
   "execution_count": null,
   "id": "ca7e40da",
   "metadata": {
    "id": "ca7e40da"
   },
   "outputs": [],
   "source": [
    "object_col = []\n",
    "for column in df.columns:\n",
    "    if df[column].dtype == object and len(df[column].unique()) <= 30:\n",
    "        object_col.append(column)\n",
    "        print(f'{column}:{df[column].unique()}')\n",
    "        print(df[column].value_counts())\n",
    "        print('================================')\n",
    "object_col.remove('Attrition')\n",
    "object_col"
   ]
  },
  {
   "cell_type": "code",
   "execution_count": null,
   "id": "56f85fc5",
   "metadata": {
    "id": "56f85fc5"
   },
   "outputs": [],
   "source": [
    "plt.figure(figsize=(10,6))\n",
    "for i, predictor in enumerate(object_col):\n",
    "    plt.figure(i)\n",
    "    sns.countplot(data=df, x=predictor, hue='Attrition')"
   ]
  },
  {
   "cell_type": "code",
   "execution_count": null,
   "id": "bdce475b",
   "metadata": {
    "id": "bdce475b"
   },
   "outputs": [],
   "source": [
    "from sklearn.preprocessing import LabelEncoder\n",
    "\n",
    "label = LabelEncoder()\n",
    "df[\"Attrition\"] = label.fit_transform(df.Attrition)"
   ]
  },
  {
   "cell_type": "code",
   "execution_count": null,
   "id": "589f0355",
   "metadata": {
    "id": "589f0355"
   },
   "outputs": [],
   "source": [
    "len(object_col)"
   ]
  },
  {
   "cell_type": "code",
   "execution_count": null,
   "id": "2da62971",
   "metadata": {
    "id": "2da62971"
   },
   "outputs": [],
   "source": [
    "num_col = []\n",
    "for column in df.columns:\n",
    "    if df[column].dtypes != object and df[column].nunique() < 30:\n",
    "        print(f'{column}:{df[column].unique()}')\n",
    "        num_col.append(column)\n",
    "        print(\"====================================\")\n",
    "num_col.remove('Attrition')\n",
    "num_col"
   ]
  },
  {
   "cell_type": "code",
   "execution_count": null,
   "id": "83d5d40c",
   "metadata": {
    "id": "83d5d40c"
   },
   "outputs": [],
   "source": [
    "plt.figure(figsize=(10,6))\n",
    "for i, predictor in enumerate(num_col):\n",
    "    plt.figure(i)\n",
    "    sns.kdeplot(data=df, x=predictor, hue='Attrition')"
   ]
  },
  {
   "cell_type": "markdown",
   "id": "a0f8cefe",
   "metadata": {
    "id": "a0f8cefe"
   },
   "source": [
    "### Bivariate Analysis\n"
   ]
  },
  {
   "cell_type": "code",
   "execution_count": null,
   "id": "377a090b",
   "metadata": {
    "id": "377a090b"
   },
   "outputs": [],
   "source": [
    "plt.figure(figsize=(30, 30))\n",
    "sns.heatmap(df.corr(), annot=True, annot_kws={\"size\":15})"
   ]
  },
  {
   "cell_type": "code",
   "execution_count": null,
   "id": "a0320943",
   "metadata": {
    "id": "a0320943"
   },
   "outputs": [],
   "source": [
    "plt.figure(figsize=(30, 30))\n",
    "sns.pairplot(df)"
   ]
  },
  {
   "cell_type": "code",
   "execution_count": null,
   "id": "040ab514",
   "metadata": {
    "id": "040ab514"
   },
   "outputs": [],
   "source": [
    "dummy_col = [column for column in df.drop('Attrition', axis=1).columns if df[column].nunique() < 20]\n",
    "df = pd.get_dummies(df, columns=dummy_col, drop_first=True, dtype='uint8')\n",
    "df.info()"
   ]
  },
  {
   "cell_type": "code",
   "execution_count": null,
   "id": "1c1c1703",
   "metadata": {
    "id": "1c1c1703"
   },
   "outputs": [],
   "source": [
    "df = data.T.drop_duplicates()\n",
    "df = data.T\n",
    "\n",
    "# Remove Duplicate Rows\n",
    "df.drop_duplicates(inplace=True)\n",
    "print(df.shape)"
   ]
  },
  {
   "cell_type": "markdown",
   "id": "6767ac15",
   "metadata": {
    "id": "6767ac15"
   },
   "source": [
    "### Encoding"
   ]
  },
  {
   "cell_type": "code",
   "execution_count": null,
   "id": "413fa3da",
   "metadata": {
    "id": "413fa3da"
   },
   "outputs": [],
   "source": [
    "df['Age_re'] = df['Age']\n",
    "df = df.drop('Age',axis=1)"
   ]
  },
  {
   "cell_type": "code",
   "execution_count": null,
   "id": "d40c418e",
   "metadata": {
    "id": "d40c418e"
   },
   "outputs": [],
   "source": [
    "one_hot_df=pd.get_dummies(df['BusinessTravel'],drop_first=True)\n",
    "df=pd.concat([df,one_hot_df],axis=1)\n",
    "one_hot_df1=pd.get_dummies(df['Department'],drop_first=True)\n",
    "df=pd.concat([df,one_hot_df1],axis=1)\n",
    "one_hot_df2=pd.get_dummies(df['EducationField'],drop_first=True)\n",
    "df=pd.concat([df,one_hot_df2],axis=1)\n",
    "one_hot_df3=pd.get_dummies(df['Gender'],drop_first=True)\n",
    "df=pd.concat([df,one_hot_df3],axis=1)\n",
    "one_hot_df4=pd.get_dummies(df['JobRole'],drop_first=True)\n",
    "df=pd.concat([df,one_hot_df4],axis=1)\n",
    "one_hot_df5=pd.get_dummies(df['MaritalStatus'],drop_first=True)\n",
    "df=pd.concat([df,one_hot_df5],axis=1)\n",
    "one_hot_df6=pd.get_dummies(df['OverTime'],drop_first=True)\n",
    "df=pd.concat([df,one_hot_df6],axis=1)"
   ]
  },
  {
   "cell_type": "code",
   "execution_count": null,
   "id": "0f867a3b",
   "metadata": {
    "id": "0f867a3b"
   },
   "outputs": [],
   "source": [
    "df.drop('BusinessTravel', inplace=True, axis=1)\n",
    "df.drop('Department', inplace=True, axis=1)\n",
    "df.drop('EducationField', inplace=True, axis=1)\n",
    "df.drop('Gender', inplace=True, axis=1)\n",
    "df.drop('JobRole', inplace=True, axis=1)\n",
    "df.drop('MaritalStatus', inplace=True, axis=1)\n",
    "df.drop('OverTime', inplace=True, axis=1)"
   ]
  },
  {
   "cell_type": "code",
   "execution_count": null,
   "id": "181cec6e",
   "metadata": {
    "colab": {
     "base_uri": "https://localhost:8080/"
    },
    "id": "181cec6e",
    "outputId": "16b1638b-511e-491c-de93-e9a6fdce24ab"
   },
   "outputs": [],
   "source": [
    "from sklearn.preprocessing import LabelEncoder\n",
    "\n",
    "for column in df.columns:\n",
    "    if df[column].dtype == np.number:\n",
    "        continue \n",
    "    df[column] = LabelEncoder().fit_transform(df[column])"
   ]
  },
  {
   "cell_type": "markdown",
   "id": "46be9504",
   "metadata": {
    "id": "46be9504"
   },
   "source": [
    "### Feature Scaling"
   ]
  },
  {
   "cell_type": "code",
   "execution_count": null,
   "id": "dad02e50",
   "metadata": {
    "colab": {
     "base_uri": "https://localhost:8080/",
     "height": 481
    },
    "id": "dad02e50",
    "outputId": "e0dbfca3-f9f8-44af-962b-58f551ae58fd"
   },
   "outputs": [],
   "source": [
    "from sklearn.preprocessing import MinMaxScaler\n",
    "scaler = MinMaxScaler(feature_range=(0, 1))\n",
    "df_scaled = scaler.fit_transform(df.to_numpy())\n",
    "df_scaled = pd.DataFrame(df_scaled)\n",
    " \n",
    "print(\"Scaled Dataset Using MinMaxScaler\")\n",
    "df_scaled"
   ]
  },
  {
   "cell_type": "code",
   "execution_count": null,
   "id": "9ced325f",
   "metadata": {
    "colab": {
     "base_uri": "https://localhost:8080/",
     "height": 500
    },
    "id": "9ced325f",
    "outputId": "7005d63e-c454-44a7-ba58-c3406387d80a"
   },
   "outputs": [],
   "source": [
    "df_scaled.columns = ['Attrition', 'DailyRate', 'DistanceFromHome', 'Education','EnvironmentSatisfaction', 'HourlyRate',\n",
    "                     'JobInvolvement','JobLevel','JobSatisfaction','MonthlyIncome','MonthlyRate','NumCompaniesWorked',\n",
    "                     'PercentSalaryHike','PerformanceRating','RelationshipSatisfaction','StockOptionLevel','TotalWorkingYears',\n",
    "                     'TrainingTimesLastYear','WorkLifeBalance','YearsAtCompany','YearsInCurrentRole','YearsSinceLastPromotion',\n",
    "                     'YearsWithCurrManager','Age_re','Travel_Frequently','Travel_Rarely','Research & Development','Sales',\n",
    "                     'Life Sciences','Marketing','Medical','Other','Technical Degree','Male','Human Resources','Laboratory Technician',\n",
    "                     'Manager','Manufacturing Director','Research Director','Research Scientist','Sales Executive','Sales Representative',\n",
    "                     'Married','Single','Yes'\n",
    "                    ]\n",
    "df_scaled"
   ]
  },
  {
   "cell_type": "markdown",
   "id": "a9eac27d",
   "metadata": {
    "id": "a9eac27d"
   },
   "source": [
    "### Specify Predictor/Target Variables"
   ]
  },
  {
   "cell_type": "code",
   "execution_count": null,
   "id": "8ec82925",
   "metadata": {
    "id": "8ec82925"
   },
   "outputs": [],
   "source": [
    "X = df_scaled.drop('Attrition', axis=1)\n",
    "y = df_scaled['Attrition']"
   ]
  },
  {
   "cell_type": "markdown",
   "id": "d5f73da4",
   "metadata": {
    "id": "d5f73da4"
   },
   "source": [
    "### Train/Test Split"
   ]
  },
  {
   "cell_type": "code",
   "execution_count": null,
   "id": "665279a1",
   "metadata": {
    "id": "665279a1"
   },
   "outputs": [],
   "source": [
    "from sklearn.model_selection import train_test_split, GridSearchCV\n",
    "\n",
    "X_train, X_test, y_train, y_test = train_test_split(X, y, test_size=0.25, random_state=42)"
   ]
  },
  {
   "cell_type": "code",
   "execution_count": null,
   "id": "ruORlXPVFKZn",
   "metadata": {
    "id": "ruORlXPVFKZn"
   },
   "outputs": [],
   "source": [
    "from imblearn.combine import SMOTEENN\n",
    "sm = SMOTEENN()\n",
    "X_train, y_train = sm.fit_resample(X_train,y_train)"
   ]
  },
  {
   "cell_type": "code",
   "execution_count": null,
   "id": "9bacd8f0",
   "metadata": {
    "id": "9bacd8f0"
   },
   "outputs": [],
   "source": [
    "from sklearn.metrics import confusion_matrix, accuracy_score, classification_report, roc_auc_score\n",
    "\n",
    "def compare(model, X_train, X_test, y_train, y_test):\n",
    "    y_test_pred = model.predict(X_test)\n",
    "    y_train_pred = model.predict(X_train)\n",
    "\n",
    "    print(\"TRAINIG RESULTS: \\n===============================\")\n",
    "    clf_report = pd.DataFrame(classification_report(y_train, y_train_pred, output_dict=True))\n",
    "    print(f\"CONFUSION MATRIX:\\n{confusion_matrix(y_train, y_train_pred)}\")\n",
    "    print(f\"ACCURACY SCORE:\\n{accuracy_score(y_train, y_train_pred):.4f}\")\n",
    "    print(f\"CLASSIFICATION REPORT:\\n{clf_report}\")\n",
    "\n",
    "    print(\"TESTING RESULTS: \\n===============================\")\n",
    "    clf_report = pd.DataFrame(classification_report(y_test, y_test_pred, output_dict=True))\n",
    "    print(f\"CONFUSION MATRIX:\\n{confusion_matrix(y_test, y_test_pred)}\")\n",
    "    print(f\"ACCURACY SCORE:\\n{accuracy_score(y_test, y_test_pred):.4f}\")\n",
    "    print(f\"CLASSIFICATION REPORT:\\n{clf_report}\")"
   ]
  },
  {
   "cell_type": "code",
   "execution_count": null,
   "id": "22b24e55",
   "metadata": {
    "id": "22b24e55"
   },
   "outputs": [],
   "source": [
    "from sklearn.metrics import precision_recall_curve, roc_curve\n",
    "\n",
    "def plot_precision_recall_vs_threshold(precisions, recalls, thresholds):\n",
    "    plt.plot(thresholds, precisions[:-1], \"b--\", label=\"Precision\")\n",
    "    plt.plot(thresholds, recalls[:-1], \"g--\", label=\"Recall\")\n",
    "    plt.xlabel(\"Threshold\")\n",
    "    plt.legend(loc=\"upper left\")\n",
    "    plt.title(\"Precision/Recall Tradeoff\")\n",
    "    \n",
    "\n",
    "def plot_roc_curve(fpr, tpr, label=None):\n",
    "    plt.plot(fpr, tpr, linewidth=2, label=label)\n",
    "    plt.plot([0, 1], [0, 1], \"k--\")\n",
    "    plt.axis([0, 1, 0, 1])\n",
    "    plt.xlabel('False Positive Rate')\n",
    "    plt.ylabel('True Positive Rate')\n",
    "    plt.title('ROC Curve')\n",
    "    \n"
   ]
  },
  {
   "cell_type": "markdown",
   "id": "1b17024b",
   "metadata": {
    "id": "1b17024b"
   },
   "source": [
    "### RandomForest"
   ]
  },
  {
   "cell_type": "code",
   "execution_count": null,
   "id": "222ce360",
   "metadata": {
    "colab": {
     "base_uri": "https://localhost:8080/"
    },
    "id": "222ce360",
    "outputId": "55e693c3-72e1-416c-d0a8-b0d502e64600"
   },
   "outputs": [],
   "source": [
    "from sklearn.ensemble import RandomForestClassifier\n",
    "\n",
    "rf_clf = RandomForestClassifier(n_estimators=100, bootstrap=False,\n",
    "\n",
    "                                    )\n",
    "rf_clf.fit(X_train, y_train)\n",
    "compare(rf_clf, X_train, X_test, y_train, y_test)"
   ]
  },
  {
   "cell_type": "markdown",
   "id": "d50c8aeb",
   "metadata": {
    "id": "d50c8aeb"
   },
   "source": [
    "### RandomForest Hyperparameter Tuning"
   ]
  },
  {
   "cell_type": "code",
   "execution_count": null,
   "id": "873a04eb",
   "metadata": {
    "colab": {
     "base_uri": "https://localhost:8080/",
     "height": 411
    },
    "id": "873a04eb",
    "outputId": "469af5eb-94c6-40c1-a48d-a536d0eb1e49"
   },
   "outputs": [],
   "source": [
    "param_grid = dict(\n",
    "    n_estimators= [100, 500], \n",
    "    max_features= ['auto', 'sqrt'],\n",
    "    max_depth= [2, 3, 5, 10, 15, None], \n",
    "    min_samples_split= [2, 5],\n",
    "    min_samples_leaf= [1, 2], \n",
    "    bootstrap= [True, False]\n",
    ")\n",
    "\n",
    "rf_clf = RandomForestClassifier(random_state=42)\n",
    "search = GridSearchCV(rf_clf, param_grid=param_grid, scoring='roc_auc', cv=5, verbose=1, n_jobs=-1)\n",
    "search.fit(X_train, y_train)\n",
    "\n",
    "rf_clf = RandomForestClassifier(**search.best_params_, random_state=42)\n",
    "rf_clf.fit(X_train, y_train)\n",
    "compare(rf_clf, X_train, X_test, y_train, y_test)"
   ]
  },
  {
   "cell_type": "markdown",
   "id": "c0d3e28a",
   "metadata": {
    "id": "c0d3e28a"
   },
   "source": [
    "### RandomForest Roc Curve  plot"
   ]
  },
  {
   "cell_type": "code",
   "execution_count": null,
   "id": "710d669a",
   "metadata": {
    "colab": {
     "base_uri": "https://localhost:8080/",
     "height": 728
    },
    "id": "710d669a",
    "outputId": "821b8847-430a-443e-9862-c239aa346d6c"
   },
   "outputs": [],
   "source": [
    "precisions, recalls, thresholds = precision_recall_curve(y_test, rf_clf.predict(X_test))\n",
    "plt.figure(figsize=(14, 25))\n",
    "plt.subplot(4, 2, 1)\n",
    "plot_precision_recall_vs_threshold(precisions, recalls, thresholds)\n",
    "\n",
    "plt.subplot(4, 2, 2)\n",
    "plt.plot(precisions, recalls)\n",
    "plt.xlabel(\"Precision\")\n",
    "plt.ylabel(\"Recall\")\n",
    "plt.title(\"PR Curve: precisions/recalls tradeoff\");\n",
    "\n",
    "plt.subplot(4, 2, 3)\n",
    "fpr, tpr, thresholds = roc_curve(y_test, rf_clf.predict(X_test))\n",
    "plot_roc_curve(fpr, tpr)"
   ]
  },
  {
   "cell_type": "code",
   "execution_count": null,
   "id": "acfc93f4",
   "metadata": {
    "id": "acfc93f4"
   },
   "outputs": [],
   "source": [
    "scores_dict = {\n",
    "        'Train': roc_auc_score(y_train, rf_clf.predict(X_train)),\n",
    "        'Test': roc_auc_score(y_test, rf_clf.predict(X_test)),\n",
    "    }"
   ]
  },
  {
   "cell_type": "code",
   "execution_count": null,
   "id": "a5c186c1",
   "metadata": {
    "colab": {
     "base_uri": "https://localhost:8080/"
    },
    "id": "a5c186c1",
    "outputId": "11ed6813-a473-4ba7-b854-c5459e1121f0"
   },
   "outputs": [],
   "source": [
    "scores_dict"
   ]
  },
  {
   "cell_type": "markdown",
   "id": "9097c010",
   "metadata": {
    "id": "9097c010"
   },
   "source": [
    "### Decision Tree"
   ]
  },
  {
   "cell_type": "code",
   "execution_count": null,
   "id": "5b86b118",
   "metadata": {
    "colab": {
     "base_uri": "https://localhost:8080/"
    },
    "id": "5b86b118",
    "outputId": "f492401b-dadb-431c-ba15-6769f41ac46b"
   },
   "outputs": [],
   "source": [
    "from sklearn.tree import DecisionTreeClassifier\n",
    "dt_clf = DecisionTreeClassifier()\n",
    "                                    \n",
    "dt_clf.fit(X_train, y_train)\n",
    "compare(dt_clf, X_train, X_test, y_train, y_test)"
   ]
  },
  {
   "cell_type": "markdown",
   "id": "60acface",
   "metadata": {
    "id": "60acface"
   },
   "source": [
    "### DecisionTree Roc Curve  plot"
   ]
  },
  {
   "cell_type": "code",
   "execution_count": null,
   "id": "bed381e9",
   "metadata": {
    "colab": {
     "base_uri": "https://localhost:8080/",
     "height": 728
    },
    "id": "bed381e9",
    "outputId": "3352bd7d-da98-4f08-a143-40172932a8cd"
   },
   "outputs": [],
   "source": [
    "precisions, recalls, thresholds = precision_recall_curve(y_test, dt_clf.predict(X_test))\n",
    "plt.figure(figsize=(14, 25))\n",
    "plt.subplot(4, 2, 1)\n",
    "plot_precision_recall_vs_threshold(precisions, recalls, thresholds)\n",
    "\n",
    "plt.subplot(4, 2, 2)\n",
    "plt.plot(precisions, recalls)\n",
    "plt.xlabel(\"Precision\")\n",
    "plt.ylabel(\"Recall\")\n",
    "plt.title(\"PR Curve: precisions/recalls tradeoff\");\n",
    "\n",
    "plt.subplot(4, 2, 3)\n",
    "fpr, tpr, thresholds = roc_curve(y_test, dt_clf.predict(X_test))\n",
    "plot_roc_curve(fpr, tpr)"
   ]
  },
  {
   "cell_type": "code",
   "execution_count": null,
   "id": "78748d60",
   "metadata": {
    "colab": {
     "base_uri": "https://localhost:8080/"
    },
    "id": "78748d60",
    "outputId": "240683b2-03b2-4ad3-c7fc-1b5797b6dc6c"
   },
   "outputs": [],
   "source": [
    "scores_dict = {\n",
    "        'Train': roc_auc_score(y_train, dt_clf.predict(X_train)),\n",
    "        'Test': roc_auc_score(y_test, dt_clf.predict(X_test)),\n",
    "    }\n",
    "scores_dict"
   ]
  },
  {
   "cell_type": "markdown",
   "id": "f05b848e",
   "metadata": {
    "id": "f05b848e"
   },
   "source": [
    "### XGBoost"
   ]
  },
  {
   "cell_type": "code",
   "execution_count": null,
   "id": "67d636e1",
   "metadata": {
    "colab": {
     "base_uri": "https://localhost:8080/"
    },
    "id": "67d636e1",
    "outputId": "6afa45b9-f392-433c-bb3a-5a8de0360a28"
   },
   "outputs": [],
   "source": [
    "from xgboost import XGBClassifier\n",
    "\n",
    "\n",
    "xgb_clf = XGBClassifier()\n",
    "xgb_clf.fit(X_train, y_train)\n",
    "\n",
    "compare(xgb_clf, X_train, X_test, y_train, y_test)"
   ]
  },
  {
   "cell_type": "markdown",
   "id": "848c4a73",
   "metadata": {
    "id": "848c4a73"
   },
   "source": [
    "### XGB Hyperparameter Tuning"
   ]
  },
  {
   "cell_type": "code",
   "execution_count": null,
   "id": "3693aadd",
   "metadata": {
    "colab": {
     "base_uri": "https://localhost:8080/"
    },
    "id": "3693aadd",
    "outputId": "01dd08f3-10ba-418d-a662-da9abc35b8dc"
   },
   "outputs": [],
   "source": [
    "import xgboost as xgb\n",
    "from xgboost.sklearn import XGBClassifier\n",
    "from sklearn.model_selection import RandomizedSearchCV\n",
    "from sklearn.model_selection import GridSearchCV\n",
    "\n",
    "\n",
    "\n",
    "param_grid = param_test = {'n_estimators':list(range(50,200,500))}\n",
    "\n",
    "xgb_clf = XGBClassifier(random_state=42)\n",
    "search = GridSearchCV(xgb_clf, param_grid=param_grid, scoring='roc_auc', cv=5, verbose=1, n_jobs=-1)\n",
    "search.fit(X_train, y_train)\n",
    "\n",
    "xgb_clf = XGBClassifier(**search.best_params_, random_state=42)\n",
    "xgb_clf.fit(X_train, y_train)\n",
    "compare(xgb_clf, X_train, X_test, y_train, y_test)"
   ]
  },
  {
   "cell_type": "markdown",
   "id": "eab35302",
   "metadata": {
    "id": "eab35302"
   },
   "source": [
    "### XGBoost ROC curve plot"
   ]
  },
  {
   "cell_type": "code",
   "execution_count": null,
   "id": "5bc31e8a",
   "metadata": {
    "colab": {
     "base_uri": "https://localhost:8080/",
     "height": 728
    },
    "id": "5bc31e8a",
    "outputId": "3ca8b2bf-dd32-4e6b-bb52-bb3c9ced69df"
   },
   "outputs": [],
   "source": [
    "precisions, recalls, thresholds = precision_recall_curve(y_test, xgb_clf.predict(X_test))\n",
    "plt.figure(figsize=(14, 25))\n",
    "plt.subplot(4, 2, 1)\n",
    "plot_precision_recall_vs_threshold(precisions, recalls, thresholds)\n",
    "\n",
    "plt.subplot(4, 2, 2)\n",
    "plt.plot(precisions, recalls)\n",
    "plt.xlabel(\"Precision\")\n",
    "plt.ylabel(\"Recall\")\n",
    "plt.title(\"PR Curve: precisions/recalls tradeoff\");\n",
    "\n",
    "plt.subplot(4, 2, 3)\n",
    "fpr, tpr, thresholds = roc_curve(y_test, xgb_clf.predict(X_test))\n",
    "plot_roc_curve(fpr, tpr)"
   ]
  },
  {
   "cell_type": "code",
   "execution_count": null,
   "id": "d86d6e0d",
   "metadata": {
    "id": "d86d6e0d"
   },
   "outputs": [],
   "source": [
    "scores_dict = {\n",
    "        'Train': roc_auc_score(y_train, xgb_clf.predict(X_train)),\n",
    "        'Test': roc_auc_score(y_test, xgb_clf.predict(X_test)),\n",
    "    }"
   ]
  },
  {
   "cell_type": "code",
   "execution_count": null,
   "id": "A8pd2NrGGPnj",
   "metadata": {
    "colab": {
     "base_uri": "https://localhost:8080/"
    },
    "id": "A8pd2NrGGPnj",
    "outputId": "a437a509-f57d-4f6c-ce38-672fd993bd33"
   },
   "outputs": [],
   "source": [
    "scores_dict"
   ]
  },
  {
   "cell_type": "markdown",
   "id": "0a6d6ade",
   "metadata": {
    "id": "0a6d6ade"
   },
   "source": [
    "### AdaBoost"
   ]
  },
  {
   "cell_type": "code",
   "execution_count": null,
   "id": "eded25e4",
   "metadata": {
    "colab": {
     "base_uri": "https://localhost:8080/"
    },
    "id": "eded25e4",
    "outputId": "b36d2e9b-c859-45a3-f3af-a6af1f5c09d7"
   },
   "outputs": [],
   "source": [
    "from sklearn.ensemble import AdaBoostClassifier\n",
    "\n",
    "ab_clf = AdaBoostClassifier()\n",
    "ab_clf.fit(X_train, y_train)\n",
    "\n",
    "compare(ab_clf, X_train, X_test, y_train, y_test)"
   ]
  },
  {
   "cell_type": "markdown",
   "id": "3692e9e4",
   "metadata": {
    "id": "3692e9e4"
   },
   "source": [
    "### AdaBoost Hyperparameter tuning"
   ]
  },
  {
   "cell_type": "code",
   "execution_count": null,
   "id": "954b282f",
   "metadata": {
    "colab": {
     "base_uri": "https://localhost:8080/"
    },
    "id": "954b282f",
    "outputId": "fb271a9d-5884-494a-baf8-5e4ef0176aca"
   },
   "outputs": [],
   "source": [
    "param_grid = dict(\n",
    "    n_estimators= [10,50,100,500], \n",
    "    learning_rate= [0.0001,0.001,0.01,0.1,1],\n",
    "    algorithm= ['SAMME', 'SAMME.R']\n",
    ")\n",
    "\n",
    "ab_clf = AdaBoostClassifier(random_state=42)\n",
    "search = GridSearchCV(ab_clf, param_grid=param_grid, scoring='roc_auc', cv=5, verbose=1, n_jobs=-1)\n",
    "search.fit(X_train, y_train)\n",
    "\n",
    "ab_clf = AdaBoostClassifier(**search.best_params_, random_state=42)\n",
    "ab_clf.fit(X_train, y_train)\n",
    "compare(ab_clf, X_train, X_test, y_train, y_test)"
   ]
  },
  {
   "cell_type": "markdown",
   "id": "a9810a8d",
   "metadata": {
    "id": "a9810a8d"
   },
   "source": [
    "### Adaboost ROC curve plot"
   ]
  },
  {
   "cell_type": "code",
   "execution_count": null,
   "id": "da0f62ba",
   "metadata": {
    "colab": {
     "base_uri": "https://localhost:8080/",
     "height": 728
    },
    "id": "da0f62ba",
    "outputId": "f7644571-455e-4699-e47e-d7609c17100a"
   },
   "outputs": [],
   "source": [
    "precisions, recalls, thresholds = precision_recall_curve(y_test, ab_clf.predict(X_test))\n",
    "plt.figure(figsize=(14, 25))\n",
    "plt.subplot(4, 2, 1)\n",
    "plot_precision_recall_vs_threshold(precisions, recalls, thresholds)\n",
    "\n",
    "plt.subplot(4, 2, 2)\n",
    "plt.plot(precisions, recalls)\n",
    "plt.xlabel(\"Precision\")\n",
    "plt.ylabel(\"Recall\")\n",
    "plt.title(\"PR Curve: precisions/recalls tradeoff\");\n",
    "\n",
    "plt.subplot(4, 2, 3)\n",
    "fpr, tpr, thresholds = roc_curve(y_test, ab_clf.predict(X_test))\n",
    "plot_roc_curve(fpr, tpr)"
   ]
  },
  {
   "cell_type": "code",
   "execution_count": null,
   "id": "dXS2PNAwGlpa",
   "metadata": {
    "id": "dXS2PNAwGlpa"
   },
   "outputs": [],
   "source": [
    "scores_dict = {\n",
    "        'Train': roc_auc_score(y_train, ab_clf.predict(X_train)),\n",
    "        'Test': roc_auc_score(y_test, ab_clf.predict(X_test)),\n",
    "    }"
   ]
  },
  {
   "cell_type": "code",
   "execution_count": null,
   "id": "j4btEltOGqti",
   "metadata": {
    "colab": {
     "base_uri": "https://localhost:8080/"
    },
    "id": "j4btEltOGqti",
    "outputId": "e5a9e479-9025-4211-c6db-3f88852285a2"
   },
   "outputs": [],
   "source": [
    "scores_dict"
   ]
  },
  {
   "cell_type": "code",
   "execution_count": null,
   "id": "WtGsSNJY_aMX",
   "metadata": {
    "colab": {
     "base_uri": "https://localhost:8080/",
     "height": 243
    },
    "id": "WtGsSNJY_aMX",
    "outputId": "76b39ee7-80e3-4c1c-bbce-c4881a33a6de"
   },
   "outputs": [],
   "source": [
    "from sklearn import metrics\n",
    "plt.rcParams['figure.figsize'] = [10,10]\n",
    "classifiers = [rf_clf,dt_clf,xgb_clf,ab_clf]\n",
    "ax = plt.gca()\n",
    "for i in classifiers:\n",
    "    metrics.plot_roc_curve(i, X_test, y_test, ax=ax)"
   ]
  }
 ],
 "metadata": {
  "colab": {
   "name": "IBM_Attrition_diff_classifier.ipynb",
   "provenance": []
  },
  "kernelspec": {
   "display_name": "Python 3 (ipykernel)",
   "language": "python",
   "name": "python3"
  },
  "language_info": {
   "codemirror_mode": {
    "name": "ipython",
    "version": 3
   },
   "file_extension": ".py",
   "mimetype": "text/x-python",
   "name": "python",
   "nbconvert_exporter": "python",
   "pygments_lexer": "ipython3",
   "version": "3.9.7"
  }
 },
 "nbformat": 4,
 "nbformat_minor": 5
}
